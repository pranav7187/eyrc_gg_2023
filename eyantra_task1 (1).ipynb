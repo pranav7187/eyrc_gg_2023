{
 "cells": [
  {
   "cell_type": "code",
   "execution_count": 1,
   "id": "c5d8ac7c-248d-4cbf-8f1b-9c5c7e0873a4",
   "metadata": {
    "id": "c5d8ac7c-248d-4cbf-8f1b-9c5c7e0873a4"
   },
   "outputs": [],
   "source": [
    "import pandas as pd\n",
    "import torch\n",
    "import numpy as np\n",
    "import matplotlib.pyplot as plt\n",
    "import seaborn as sns"
   ]
  },
  {
   "cell_type": "code",
   "execution_count": 2,
   "id": "e73f8211-8758-41d8-987a-9e1440dc7327",
   "metadata": {
    "id": "e73f8211-8758-41d8-987a-9e1440dc7327"
   },
   "outputs": [],
   "source": [
    "df = pd.read_csv(\"task_1a_dataset.csv\")"
   ]
  },
  {
   "cell_type": "code",
   "execution_count": 3,
   "id": "69f095f2-bcdd-42e3-bc62-c3c89bb7febb",
   "metadata": {
    "id": "69f095f2-bcdd-42e3-bc62-c3c89bb7febb"
   },
   "outputs": [],
   "source": [
    "df.replace('Bachelors', 0, inplace = True)\n",
    "df.replace('Masters', 1, inplace = True)\n",
    "df.replace('PHD', 2, inplace = True)\n"
   ]
  },
  {
   "cell_type": "code",
   "execution_count": 99,
   "id": "77cac547-a11c-4332-b50a-0044b3c167e3",
   "metadata": {
    "colab": {
     "base_uri": "https://localhost:8080/",
     "height": 443
    },
    "id": "77cac547-a11c-4332-b50a-0044b3c167e3",
    "outputId": "8098982c-5dba-431d-ad43-fdbba738dc79"
   },
   "outputs": [
    {
     "data": {
      "text/html": [
       "\n",
       "  <div id=\"df-9c575c66-ec5d-46ad-925b-1df8647d134e\" class=\"colab-df-container\">\n",
       "    <div>\n",
       "<style scoped>\n",
       "    .dataframe tbody tr th:only-of-type {\n",
       "        vertical-align: middle;\n",
       "    }\n",
       "\n",
       "    .dataframe tbody tr th {\n",
       "        vertical-align: top;\n",
       "    }\n",
       "\n",
       "    .dataframe thead th {\n",
       "        text-align: right;\n",
       "    }\n",
       "</style>\n",
       "<table border=\"1\" class=\"dataframe\">\n",
       "  <thead>\n",
       "    <tr style=\"text-align: right;\">\n",
       "      <th></th>\n",
       "      <th>Education</th>\n",
       "      <th>JoiningYear</th>\n",
       "      <th>City</th>\n",
       "      <th>PaymentTier</th>\n",
       "      <th>Age</th>\n",
       "      <th>Gender</th>\n",
       "      <th>EverBenched</th>\n",
       "      <th>ExperienceInCurrentDomain</th>\n",
       "      <th>LeaveOrNot</th>\n",
       "    </tr>\n",
       "  </thead>\n",
       "  <tbody>\n",
       "    <tr>\n",
       "      <th>0</th>\n",
       "      <td>0</td>\n",
       "      <td>2012</td>\n",
       "      <td>Bangalore</td>\n",
       "      <td>3</td>\n",
       "      <td>37</td>\n",
       "      <td>Male</td>\n",
       "      <td>No</td>\n",
       "      <td>0</td>\n",
       "      <td>0</td>\n",
       "    </tr>\n",
       "    <tr>\n",
       "      <th>1</th>\n",
       "      <td>1</td>\n",
       "      <td>2017</td>\n",
       "      <td>New Delhi</td>\n",
       "      <td>2</td>\n",
       "      <td>28</td>\n",
       "      <td>Male</td>\n",
       "      <td>No</td>\n",
       "      <td>4</td>\n",
       "      <td>0</td>\n",
       "    </tr>\n",
       "    <tr>\n",
       "      <th>2</th>\n",
       "      <td>0</td>\n",
       "      <td>2017</td>\n",
       "      <td>New Delhi</td>\n",
       "      <td>2</td>\n",
       "      <td>36</td>\n",
       "      <td>Male</td>\n",
       "      <td>No</td>\n",
       "      <td>3</td>\n",
       "      <td>0</td>\n",
       "    </tr>\n",
       "    <tr>\n",
       "      <th>3</th>\n",
       "      <td>0</td>\n",
       "      <td>2015</td>\n",
       "      <td>Bangalore</td>\n",
       "      <td>3</td>\n",
       "      <td>27</td>\n",
       "      <td>Male</td>\n",
       "      <td>Yes</td>\n",
       "      <td>5</td>\n",
       "      <td>0</td>\n",
       "    </tr>\n",
       "    <tr>\n",
       "      <th>4</th>\n",
       "      <td>0</td>\n",
       "      <td>2017</td>\n",
       "      <td>Bangalore</td>\n",
       "      <td>3</td>\n",
       "      <td>29</td>\n",
       "      <td>Male</td>\n",
       "      <td>No</td>\n",
       "      <td>4</td>\n",
       "      <td>0</td>\n",
       "    </tr>\n",
       "    <tr>\n",
       "      <th>...</th>\n",
       "      <td>...</td>\n",
       "      <td>...</td>\n",
       "      <td>...</td>\n",
       "      <td>...</td>\n",
       "      <td>...</td>\n",
       "      <td>...</td>\n",
       "      <td>...</td>\n",
       "      <td>...</td>\n",
       "      <td>...</td>\n",
       "    </tr>\n",
       "    <tr>\n",
       "      <th>4628</th>\n",
       "      <td>0</td>\n",
       "      <td>2013</td>\n",
       "      <td>Bangalore</td>\n",
       "      <td>3</td>\n",
       "      <td>26</td>\n",
       "      <td>Female</td>\n",
       "      <td>No</td>\n",
       "      <td>4</td>\n",
       "      <td>0</td>\n",
       "    </tr>\n",
       "    <tr>\n",
       "      <th>4629</th>\n",
       "      <td>1</td>\n",
       "      <td>2013</td>\n",
       "      <td>Pune</td>\n",
       "      <td>2</td>\n",
       "      <td>37</td>\n",
       "      <td>Male</td>\n",
       "      <td>No</td>\n",
       "      <td>2</td>\n",
       "      <td>1</td>\n",
       "    </tr>\n",
       "    <tr>\n",
       "      <th>4630</th>\n",
       "      <td>1</td>\n",
       "      <td>2018</td>\n",
       "      <td>New Delhi</td>\n",
       "      <td>3</td>\n",
       "      <td>27</td>\n",
       "      <td>Male</td>\n",
       "      <td>No</td>\n",
       "      <td>5</td>\n",
       "      <td>1</td>\n",
       "    </tr>\n",
       "    <tr>\n",
       "      <th>4631</th>\n",
       "      <td>0</td>\n",
       "      <td>2012</td>\n",
       "      <td>Bangalore</td>\n",
       "      <td>3</td>\n",
       "      <td>30</td>\n",
       "      <td>Male</td>\n",
       "      <td>Yes</td>\n",
       "      <td>2</td>\n",
       "      <td>0</td>\n",
       "    </tr>\n",
       "    <tr>\n",
       "      <th>4632</th>\n",
       "      <td>0</td>\n",
       "      <td>2015</td>\n",
       "      <td>Bangalore</td>\n",
       "      <td>3</td>\n",
       "      <td>33</td>\n",
       "      <td>Male</td>\n",
       "      <td>Yes</td>\n",
       "      <td>4</td>\n",
       "      <td>0</td>\n",
       "    </tr>\n",
       "  </tbody>\n",
       "</table>\n",
       "<p>4633 rows × 9 columns</p>\n",
       "</div>\n",
       "    <div class=\"colab-df-buttons\">\n",
       "\n",
       "  <div class=\"colab-df-container\">\n",
       "    <button class=\"colab-df-convert\" onclick=\"convertToInteractive('df-9c575c66-ec5d-46ad-925b-1df8647d134e')\"\n",
       "            title=\"Convert this dataframe to an interactive table.\"\n",
       "            style=\"display:none;\">\n",
       "\n",
       "  <svg xmlns=\"http://www.w3.org/2000/svg\" height=\"24px\" viewBox=\"0 -960 960 960\">\n",
       "    <path d=\"M120-120v-720h720v720H120Zm60-500h600v-160H180v160Zm220 220h160v-160H400v160Zm0 220h160v-160H400v160ZM180-400h160v-160H180v160Zm440 0h160v-160H620v160ZM180-180h160v-160H180v160Zm440 0h160v-160H620v160Z\"/>\n",
       "  </svg>\n",
       "    </button>\n",
       "\n",
       "  <style>\n",
       "    .colab-df-container {\n",
       "      display:flex;\n",
       "      gap: 12px;\n",
       "    }\n",
       "\n",
       "    .colab-df-convert {\n",
       "      background-color: #E8F0FE;\n",
       "      border: none;\n",
       "      border-radius: 50%;\n",
       "      cursor: pointer;\n",
       "      display: none;\n",
       "      fill: #1967D2;\n",
       "      height: 32px;\n",
       "      padding: 0 0 0 0;\n",
       "      width: 32px;\n",
       "    }\n",
       "\n",
       "    .colab-df-convert:hover {\n",
       "      background-color: #E2EBFA;\n",
       "      box-shadow: 0px 1px 2px rgba(60, 64, 67, 0.3), 0px 1px 3px 1px rgba(60, 64, 67, 0.15);\n",
       "      fill: #174EA6;\n",
       "    }\n",
       "\n",
       "    .colab-df-buttons div {\n",
       "      margin-bottom: 4px;\n",
       "    }\n",
       "\n",
       "    [theme=dark] .colab-df-convert {\n",
       "      background-color: #3B4455;\n",
       "      fill: #D2E3FC;\n",
       "    }\n",
       "\n",
       "    [theme=dark] .colab-df-convert:hover {\n",
       "      background-color: #434B5C;\n",
       "      box-shadow: 0px 1px 3px 1px rgba(0, 0, 0, 0.15);\n",
       "      filter: drop-shadow(0px 1px 2px rgba(0, 0, 0, 0.3));\n",
       "      fill: #FFFFFF;\n",
       "    }\n",
       "  </style>\n",
       "\n",
       "    <script>\n",
       "      const buttonEl =\n",
       "        document.querySelector('#df-9c575c66-ec5d-46ad-925b-1df8647d134e button.colab-df-convert');\n",
       "      buttonEl.style.display =\n",
       "        google.colab.kernel.accessAllowed ? 'block' : 'none';\n",
       "\n",
       "      async function convertToInteractive(key) {\n",
       "        const element = document.querySelector('#df-9c575c66-ec5d-46ad-925b-1df8647d134e');\n",
       "        const dataTable =\n",
       "          await google.colab.kernel.invokeFunction('convertToInteractive',\n",
       "                                                    [key], {});\n",
       "        if (!dataTable) return;\n",
       "\n",
       "        const docLinkHtml = 'Like what you see? Visit the ' +\n",
       "          '<a target=\"_blank\" href=https://colab.research.google.com/notebooks/data_table.ipynb>data table notebook</a>'\n",
       "          + ' to learn more about interactive tables.';\n",
       "        element.innerHTML = '';\n",
       "        dataTable['output_type'] = 'display_data';\n",
       "        await google.colab.output.renderOutput(dataTable, element);\n",
       "        const docLink = document.createElement('div');\n",
       "        docLink.innerHTML = docLinkHtml;\n",
       "        element.appendChild(docLink);\n",
       "      }\n",
       "    </script>\n",
       "  </div>\n",
       "\n",
       "\n",
       "<div id=\"df-cf60bdc2-c531-4f16-ba4e-5cf7df4e71bf\">\n",
       "  <button class=\"colab-df-quickchart\" onclick=\"quickchart('df-cf60bdc2-c531-4f16-ba4e-5cf7df4e71bf')\"\n",
       "            title=\"Suggest charts.\"\n",
       "            style=\"display:none;\">\n",
       "\n",
       "<svg xmlns=\"http://www.w3.org/2000/svg\" height=\"24px\"viewBox=\"0 0 24 24\"\n",
       "     width=\"24px\">\n",
       "    <g>\n",
       "        <path d=\"M19 3H5c-1.1 0-2 .9-2 2v14c0 1.1.9 2 2 2h14c1.1 0 2-.9 2-2V5c0-1.1-.9-2-2-2zM9 17H7v-7h2v7zm4 0h-2V7h2v10zm4 0h-2v-4h2v4z\"/>\n",
       "    </g>\n",
       "</svg>\n",
       "  </button>\n",
       "\n",
       "<style>\n",
       "  .colab-df-quickchart {\n",
       "      --bg-color: #E8F0FE;\n",
       "      --fill-color: #1967D2;\n",
       "      --hover-bg-color: #E2EBFA;\n",
       "      --hover-fill-color: #174EA6;\n",
       "      --disabled-fill-color: #AAA;\n",
       "      --disabled-bg-color: #DDD;\n",
       "  }\n",
       "\n",
       "  [theme=dark] .colab-df-quickchart {\n",
       "      --bg-color: #3B4455;\n",
       "      --fill-color: #D2E3FC;\n",
       "      --hover-bg-color: #434B5C;\n",
       "      --hover-fill-color: #FFFFFF;\n",
       "      --disabled-bg-color: #3B4455;\n",
       "      --disabled-fill-color: #666;\n",
       "  }\n",
       "\n",
       "  .colab-df-quickchart {\n",
       "    background-color: var(--bg-color);\n",
       "    border: none;\n",
       "    border-radius: 50%;\n",
       "    cursor: pointer;\n",
       "    display: none;\n",
       "    fill: var(--fill-color);\n",
       "    height: 32px;\n",
       "    padding: 0;\n",
       "    width: 32px;\n",
       "  }\n",
       "\n",
       "  .colab-df-quickchart:hover {\n",
       "    background-color: var(--hover-bg-color);\n",
       "    box-shadow: 0 1px 2px rgba(60, 64, 67, 0.3), 0 1px 3px 1px rgba(60, 64, 67, 0.15);\n",
       "    fill: var(--button-hover-fill-color);\n",
       "  }\n",
       "\n",
       "  .colab-df-quickchart-complete:disabled,\n",
       "  .colab-df-quickchart-complete:disabled:hover {\n",
       "    background-color: var(--disabled-bg-color);\n",
       "    fill: var(--disabled-fill-color);\n",
       "    box-shadow: none;\n",
       "  }\n",
       "\n",
       "  .colab-df-spinner {\n",
       "    border: 2px solid var(--fill-color);\n",
       "    border-color: transparent;\n",
       "    border-bottom-color: var(--fill-color);\n",
       "    animation:\n",
       "      spin 1s steps(1) infinite;\n",
       "  }\n",
       "\n",
       "  @keyframes spin {\n",
       "    0% {\n",
       "      border-color: transparent;\n",
       "      border-bottom-color: var(--fill-color);\n",
       "      border-left-color: var(--fill-color);\n",
       "    }\n",
       "    20% {\n",
       "      border-color: transparent;\n",
       "      border-left-color: var(--fill-color);\n",
       "      border-top-color: var(--fill-color);\n",
       "    }\n",
       "    30% {\n",
       "      border-color: transparent;\n",
       "      border-left-color: var(--fill-color);\n",
       "      border-top-color: var(--fill-color);\n",
       "      border-right-color: var(--fill-color);\n",
       "    }\n",
       "    40% {\n",
       "      border-color: transparent;\n",
       "      border-right-color: var(--fill-color);\n",
       "      border-top-color: var(--fill-color);\n",
       "    }\n",
       "    60% {\n",
       "      border-color: transparent;\n",
       "      border-right-color: var(--fill-color);\n",
       "    }\n",
       "    80% {\n",
       "      border-color: transparent;\n",
       "      border-right-color: var(--fill-color);\n",
       "      border-bottom-color: var(--fill-color);\n",
       "    }\n",
       "    90% {\n",
       "      border-color: transparent;\n",
       "      border-bottom-color: var(--fill-color);\n",
       "    }\n",
       "  }\n",
       "</style>\n",
       "\n",
       "  <script>\n",
       "    async function quickchart(key) {\n",
       "      const quickchartButtonEl =\n",
       "        document.querySelector('#' + key + ' button');\n",
       "      quickchartButtonEl.disabled = true;  // To prevent multiple clicks.\n",
       "      quickchartButtonEl.classList.add('colab-df-spinner');\n",
       "      try {\n",
       "        const charts = await google.colab.kernel.invokeFunction(\n",
       "            'suggestCharts', [key], {});\n",
       "      } catch (error) {\n",
       "        console.error('Error during call to suggestCharts:', error);\n",
       "      }\n",
       "      quickchartButtonEl.classList.remove('colab-df-spinner');\n",
       "      quickchartButtonEl.classList.add('colab-df-quickchart-complete');\n",
       "    }\n",
       "    (() => {\n",
       "      let quickchartButtonEl =\n",
       "        document.querySelector('#df-cf60bdc2-c531-4f16-ba4e-5cf7df4e71bf button');\n",
       "      quickchartButtonEl.style.display =\n",
       "        google.colab.kernel.accessAllowed ? 'block' : 'none';\n",
       "    })();\n",
       "  </script>\n",
       "</div>\n",
       "    </div>\n",
       "  </div>\n"
      ],
      "text/plain": [
       "      Education  JoiningYear       City  PaymentTier  Age  Gender EverBenched  \\\n",
       "0             0         2012  Bangalore            3   37    Male          No   \n",
       "1             1         2017  New Delhi            2   28    Male          No   \n",
       "2             0         2017  New Delhi            2   36    Male          No   \n",
       "3             0         2015  Bangalore            3   27    Male         Yes   \n",
       "4             0         2017  Bangalore            3   29    Male          No   \n",
       "...         ...          ...        ...          ...  ...     ...         ...   \n",
       "4628          0         2013  Bangalore            3   26  Female          No   \n",
       "4629          1         2013       Pune            2   37    Male          No   \n",
       "4630          1         2018  New Delhi            3   27    Male          No   \n",
       "4631          0         2012  Bangalore            3   30    Male         Yes   \n",
       "4632          0         2015  Bangalore            3   33    Male         Yes   \n",
       "\n",
       "      ExperienceInCurrentDomain  LeaveOrNot  \n",
       "0                             0           0  \n",
       "1                             4           0  \n",
       "2                             3           0  \n",
       "3                             5           0  \n",
       "4                             4           0  \n",
       "...                         ...         ...  \n",
       "4628                          4           0  \n",
       "4629                          2           1  \n",
       "4630                          5           1  \n",
       "4631                          2           0  \n",
       "4632                          4           0  \n",
       "\n",
       "[4633 rows x 9 columns]"
      ]
     },
     "execution_count": 99,
     "metadata": {},
     "output_type": "execute_result"
    }
   ],
   "source": [
    "df"
   ]
  },
  {
   "cell_type": "code",
   "execution_count": 4,
   "id": "f82c622d-d249-48bf-b1da-c12eeff6892f",
   "metadata": {
    "id": "f82c622d-d249-48bf-b1da-c12eeff6892f"
   },
   "outputs": [],
   "source": [
    "df = pd.get_dummies(df , columns = [\"City\", \"Gender\", \"EverBenched\"], drop_first = True , dtype=int)"
   ]
  },
  {
   "cell_type": "code",
   "execution_count": 101,
   "id": "a99ba643-8496-43c3-ab7f-dc322ad09f90",
   "metadata": {
    "colab": {
     "base_uri": "https://localhost:8080/"
    },
    "id": "a99ba643-8496-43c3-ab7f-dc322ad09f90",
    "outputId": "496d5bd2-acdb-4010-e3c9-3fb7413af20e"
   },
   "outputs": [
    {
     "name": "stdout",
     "output_type": "stream",
     "text": [
      "<class 'pandas.core.frame.DataFrame'>\n",
      "RangeIndex: 4633 entries, 0 to 4632\n",
      "Data columns (total 10 columns):\n",
      " #   Column                     Non-Null Count  Dtype\n",
      "---  ------                     --------------  -----\n",
      " 0   Education                  4633 non-null   int64\n",
      " 1   JoiningYear                4633 non-null   int64\n",
      " 2   PaymentTier                4633 non-null   int64\n",
      " 3   Age                        4633 non-null   int64\n",
      " 4   ExperienceInCurrentDomain  4633 non-null   int64\n",
      " 5   LeaveOrNot                 4633 non-null   int64\n",
      " 6   City_New Delhi             4633 non-null   int64\n",
      " 7   City_Pune                  4633 non-null   int64\n",
      " 8   Gender_Male                4633 non-null   int64\n",
      " 9   EverBenched_Yes            4633 non-null   int64\n",
      "dtypes: int64(10)\n",
      "memory usage: 362.1 KB\n"
     ]
    }
   ],
   "source": [
    "df.info()"
   ]
  },
  {
   "cell_type": "code",
   "execution_count": 5,
   "id": "5d674ceb-4501-4af6-8de5-cd2a34677401",
   "metadata": {
    "id": "5d674ceb-4501-4af6-8de5-cd2a34677401"
   },
   "outputs": [],
   "source": [
    "df.JoiningYear = df.JoiningYear - 2012"
   ]
  },
  {
   "cell_type": "code",
   "execution_count": 102,
   "id": "6ef02c83-ee52-4209-80c3-5b1c168d43fe",
   "metadata": {
    "id": "6ef02c83-ee52-4209-80c3-5b1c168d43fe"
   },
   "outputs": [],
   "source": []
  },
  {
   "cell_type": "code",
   "execution_count": 103,
   "id": "01e0d643-2658-477b-a4f4-271f8b0fcc3a",
   "metadata": {
    "colab": {
     "base_uri": "https://localhost:8080/",
     "height": 657
    },
    "id": "01e0d643-2658-477b-a4f4-271f8b0fcc3a",
    "outputId": "52d15cea-4b3f-41f4-b7bc-576eedcd377c"
   },
   "outputs": [
    {
     "name": "stderr",
     "output_type": "stream",
     "text": [
      "<ipython-input-103-b2378c9d8a20>:1: UserWarning: \n",
      "\n",
      "`distplot` is a deprecated function and will be removed in seaborn v0.14.0.\n",
      "\n",
      "Please adapt your code to use either `displot` (a figure-level function with\n",
      "similar flexibility) or `histplot` (an axes-level function for histograms).\n",
      "\n",
      "For a guide to updating your code to use the new functions, please see\n",
      "https://gist.github.com/mwaskom/de44147ed2974457ad6372750bbe5751\n",
      "\n",
      "  sns.distplot(df.Age)\n"
     ]
    },
    {
     "data": {
      "text/plain": [
       "<Axes: xlabel='Age', ylabel='Density'>"
      ]
     },
     "execution_count": 103,
     "metadata": {},
     "output_type": "execute_result"
    },
    {
     "data": {
      "image/png": "[encoded data removed]",
      "text/plain": [
       "<Figure size 640x480 with 1 Axes>"
      ]
     },
     "metadata": {},
     "output_type": "display_data"
    }
   ],
   "source": [
    "sns.distplot(df.Age)"
   ]
  },
  {
   "cell_type": "code",
   "execution_count": 104,
   "id": "82922104-96af-4a3e-aec9-bc86248052fe",
   "metadata": {
    "colab": {
     "base_uri": "https://localhost:8080/"
    },
    "id": "82922104-96af-4a3e-aec9-bc86248052fe",
    "outputId": "c093529d-2844-4c2e-b94b-7a652a1db99d"
   },
   "outputs": [
    {
     "data": {
      "text/plain": [
       "0       37\n",
       "1       28\n",
       "2       36\n",
       "3       27\n",
       "4       29\n",
       "        ..\n",
       "4628    26\n",
       "4629    37\n",
       "4630    27\n",
       "4631    30\n",
       "4632    33\n",
       "Name: Age, Length: 4633, dtype: int64"
      ]
     },
     "execution_count": 104,
     "metadata": {},
     "output_type": "execute_result"
    }
   ],
   "source": [
    "df.Age"
   ]
  },
  {
   "cell_type": "code",
   "execution_count": 6,
   "id": "97db285d-cd43-4b84-8ada-a39d34babf13",
   "metadata": {
    "id": "97db285d-cd43-4b84-8ada-a39d34babf13"
   },
   "outputs": [],
   "source": [
    "X1 = df.drop(columns = \"LeaveOrNot\")\n",
    "y = df.LeaveOrNot"
   ]
  },
  {
   "cell_type": "code",
   "execution_count": 9,
   "id": "63249006-07d0-4d44-942b-03830af1c938",
   "metadata": {
    "id": "63249006-07d0-4d44-942b-03830af1c938"
   },
   "outputs": [
    {
     "data": {
      "text/html": [
       "<div>\n",
       "<style scoped>\n",
       "    .dataframe tbody tr th:only-of-type {\n",
       "        vertical-align: middle;\n",
       "    }\n",
       "\n",
       "    .dataframe tbody tr th {\n",
       "        vertical-align: top;\n",
       "    }\n",
       "\n",
       "    .dataframe thead th {\n",
       "        text-align: right;\n",
       "    }\n",
       "</style>\n",
       "<table border=\"1\" class=\"dataframe\">\n",
       "  <thead>\n",
       "    <tr style=\"text-align: right;\">\n",
       "      <th></th>\n",
       "      <th>Education</th>\n",
       "      <th>JoiningYear</th>\n",
       "      <th>PaymentTier</th>\n",
       "      <th>Age</th>\n",
       "      <th>ExperienceInCurrentDomain</th>\n",
       "      <th>LeaveOrNot</th>\n",
       "      <th>City_New Delhi</th>\n",
       "      <th>City_Pune</th>\n",
       "      <th>Gender_Male</th>\n",
       "      <th>EverBenched_Yes</th>\n",
       "    </tr>\n",
       "  </thead>\n",
       "  <tbody>\n",
       "    <tr>\n",
       "      <th>0</th>\n",
       "      <td>0</td>\n",
       "      <td>0</td>\n",
       "      <td>3</td>\n",
       "      <td>37</td>\n",
       "      <td>0</td>\n",
       "      <td>0</td>\n",
       "      <td>0</td>\n",
       "      <td>0</td>\n",
       "      <td>1</td>\n",
       "      <td>0</td>\n",
       "    </tr>\n",
       "    <tr>\n",
       "      <th>1</th>\n",
       "      <td>1</td>\n",
       "      <td>5</td>\n",
       "      <td>2</td>\n",
       "      <td>28</td>\n",
       "      <td>4</td>\n",
       "      <td>0</td>\n",
       "      <td>1</td>\n",
       "      <td>0</td>\n",
       "      <td>1</td>\n",
       "      <td>0</td>\n",
       "    </tr>\n",
       "    <tr>\n",
       "      <th>2</th>\n",
       "      <td>0</td>\n",
       "      <td>5</td>\n",
       "      <td>2</td>\n",
       "      <td>36</td>\n",
       "      <td>3</td>\n",
       "      <td>0</td>\n",
       "      <td>1</td>\n",
       "      <td>0</td>\n",
       "      <td>1</td>\n",
       "      <td>0</td>\n",
       "    </tr>\n",
       "    <tr>\n",
       "      <th>3</th>\n",
       "      <td>0</td>\n",
       "      <td>3</td>\n",
       "      <td>3</td>\n",
       "      <td>27</td>\n",
       "      <td>5</td>\n",
       "      <td>0</td>\n",
       "      <td>0</td>\n",
       "      <td>0</td>\n",
       "      <td>1</td>\n",
       "      <td>1</td>\n",
       "    </tr>\n",
       "    <tr>\n",
       "      <th>4</th>\n",
       "      <td>0</td>\n",
       "      <td>5</td>\n",
       "      <td>3</td>\n",
       "      <td>29</td>\n",
       "      <td>4</td>\n",
       "      <td>0</td>\n",
       "      <td>0</td>\n",
       "      <td>0</td>\n",
       "      <td>1</td>\n",
       "      <td>0</td>\n",
       "    </tr>\n",
       "    <tr>\n",
       "      <th>...</th>\n",
       "      <td>...</td>\n",
       "      <td>...</td>\n",
       "      <td>...</td>\n",
       "      <td>...</td>\n",
       "      <td>...</td>\n",
       "      <td>...</td>\n",
       "      <td>...</td>\n",
       "      <td>...</td>\n",
       "      <td>...</td>\n",
       "      <td>...</td>\n",
       "    </tr>\n",
       "    <tr>\n",
       "      <th>4628</th>\n",
       "      <td>0</td>\n",
       "      <td>1</td>\n",
       "      <td>3</td>\n",
       "      <td>26</td>\n",
       "      <td>4</td>\n",
       "      <td>0</td>\n",
       "      <td>0</td>\n",
       "      <td>0</td>\n",
       "      <td>0</td>\n",
       "      <td>0</td>\n",
       "    </tr>\n",
       "    <tr>\n",
       "      <th>4629</th>\n",
       "      <td>1</td>\n",
       "      <td>1</td>\n",
       "      <td>2</td>\n",
       "      <td>37</td>\n",
       "      <td>2</td>\n",
       "      <td>1</td>\n",
       "      <td>0</td>\n",
       "      <td>1</td>\n",
       "      <td>1</td>\n",
       "      <td>0</td>\n",
       "    </tr>\n",
       "    <tr>\n",
       "      <th>4630</th>\n",
       "      <td>1</td>\n",
       "      <td>6</td>\n",
       "      <td>3</td>\n",
       "      <td>27</td>\n",
       "      <td>5</td>\n",
       "      <td>1</td>\n",
       "      <td>1</td>\n",
       "      <td>0</td>\n",
       "      <td>1</td>\n",
       "      <td>0</td>\n",
       "    </tr>\n",
       "    <tr>\n",
       "      <th>4631</th>\n",
       "      <td>0</td>\n",
       "      <td>0</td>\n",
       "      <td>3</td>\n",
       "      <td>30</td>\n",
       "      <td>2</td>\n",
       "      <td>0</td>\n",
       "      <td>0</td>\n",
       "      <td>0</td>\n",
       "      <td>1</td>\n",
       "      <td>1</td>\n",
       "    </tr>\n",
       "    <tr>\n",
       "      <th>4632</th>\n",
       "      <td>0</td>\n",
       "      <td>3</td>\n",
       "      <td>3</td>\n",
       "      <td>33</td>\n",
       "      <td>4</td>\n",
       "      <td>0</td>\n",
       "      <td>0</td>\n",
       "      <td>0</td>\n",
       "      <td>1</td>\n",
       "      <td>1</td>\n",
       "    </tr>\n",
       "  </tbody>\n",
       "</table>\n",
       "<p>4633 rows × 10 columns</p>\n",
       "</div>"
      ],
      "text/plain": [
       "      Education  JoiningYear  PaymentTier  Age  ExperienceInCurrentDomain  \\\n",
       "0             0            0            3   37                          0   \n",
       "1             1            5            2   28                          4   \n",
       "2             0            5            2   36                          3   \n",
       "3             0            3            3   27                          5   \n",
       "4             0            5            3   29                          4   \n",
       "...         ...          ...          ...  ...                        ...   \n",
       "4628          0            1            3   26                          4   \n",
       "4629          1            1            2   37                          2   \n",
       "4630          1            6            3   27                          5   \n",
       "4631          0            0            3   30                          2   \n",
       "4632          0            3            3   33                          4   \n",
       "\n",
       "      LeaveOrNot  City_New Delhi  City_Pune  Gender_Male  EverBenched_Yes  \n",
       "0              0               0          0            1                0  \n",
       "1              0               1          0            1                0  \n",
       "2              0               1          0            1                0  \n",
       "3              0               0          0            1                1  \n",
       "4              0               0          0            1                0  \n",
       "...          ...             ...        ...          ...              ...  \n",
       "4628           0               0          0            0                0  \n",
       "4629           1               0          1            1                0  \n",
       "4630           1               1          0            1                0  \n",
       "4631           0               0          0            1                1  \n",
       "4632           0               0          0            1                1  \n",
       "\n",
       "[4633 rows x 10 columns]"
      ]
     },
     "execution_count": 9,
     "metadata": {},
     "output_type": "execute_result"
    }
   ],
   "source": []
  },
  {
   "cell_type": "code",
   "execution_count": 106,
   "id": "f52541d9-c4e0-4781-acea-f05c3aa96313",
   "metadata": {
    "colab": {
     "base_uri": "https://localhost:8080/"
    },
    "id": "f52541d9-c4e0-4781-acea-f05c3aa96313",
    "outputId": "62f23212-098b-4d6e-da25-17eda5c714c3"
   },
   "outputs": [
    {
     "name": "stdout",
     "output_type": "stream",
     "text": [
      "[[-0.50783292 -1.64261035  0.53755434 ... -0.61152436  0.82231011\n",
      "  -0.33838684]\n",
      " [ 1.40968127  1.03987599 -1.24518672 ... -0.61152436  0.82231011\n",
      "  -0.33838684]\n",
      " [-0.50783292  1.03987599 -1.24518672 ... -0.61152436  0.82231011\n",
      "  -0.33838684]\n",
      " ...\n",
      " [ 1.40968127  1.57637326  0.53755434 ... -0.61152436  0.82231011\n",
      "  -0.33838684]\n",
      " [-0.50783292 -1.64261035  0.53755434 ... -0.61152436  0.82231011\n",
      "   2.95519767]\n",
      " [-0.50783292 -0.03311854  0.53755434 ... -0.61152436  0.82231011\n",
      "   2.95519767]]\n"
     ]
    }
   ],
   "source": [
    "from sklearn.preprocessing import StandardScaler\n",
    "\n",
    "scaler = StandardScaler()\n",
    "\n",
    "scaler.fit(X1)\n",
    "\n",
    "X = scaler.transform(X1)\n",
    "\n",
    "print(X)\n"
   ]
  },
  {
   "cell_type": "code",
   "execution_count": 107,
   "id": "0c89794f-f961-4bc1-babd-ee2c097b819f",
   "metadata": {
    "colab": {
     "base_uri": "https://localhost:8080/"
    },
    "id": "0c89794f-f961-4bc1-babd-ee2c097b819f",
    "outputId": "5896d20d-0284-459b-a71d-1337fa65b683"
   },
   "outputs": [
    {
     "data": {
      "text/plain": [
       "0       0\n",
       "1       0\n",
       "2       0\n",
       "3       0\n",
       "4       0\n",
       "       ..\n",
       "4628    0\n",
       "4629    1\n",
       "4630    1\n",
       "4631    0\n",
       "4632    0\n",
       "Name: LeaveOrNot, Length: 4633, dtype: int64"
      ]
     },
     "execution_count": 107,
     "metadata": {},
     "output_type": "execute_result"
    }
   ],
   "source": [
    "y"
   ]
  },
  {
   "cell_type": "code",
   "execution_count": 108,
   "id": "eab5b264-48a9-460f-b1f5-bcdbb7623b5a",
   "metadata": {
    "id": "eab5b264-48a9-460f-b1f5-bcdbb7623b5a"
   },
   "outputs": [],
   "source": [
    "import torch\n",
    "from torch import nn\n",
    "\n",
    "device = \"cuda\" if torch.cuda.is_available() else \"cpu\""
   ]
  },
  {
   "cell_type": "code",
   "execution_count": 109,
   "id": "Z079ns-s7tt-",
   "metadata": {
    "colab": {
     "base_uri": "https://localhost:8080/",
     "height": 35
    },
    "id": "Z079ns-s7tt-",
    "outputId": "cbd5095e-33fa-4f72-8b3b-25c10ea80027"
   },
   "outputs": [
    {
     "data": {
      "application/vnd.google.colaboratory.intrinsic+json": {
       "type": "string"
      },
      "text/plain": [
       "'cuda'"
      ]
     },
     "execution_count": 109,
     "metadata": {},
     "output_type": "execute_result"
    }
   ],
   "source": [
    "device"
   ]
  },
  {
   "cell_type": "code",
   "execution_count": 110,
   "id": "MxzsThqm79bq",
   "metadata": {
    "id": "MxzsThqm79bq"
   },
   "outputs": [],
   "source": [
    "y = np.array(y)"
   ]
  },
  {
   "cell_type": "code",
   "execution_count": 111,
   "id": "I8kWc8eJ7udS",
   "metadata": {
    "id": "I8kWc8eJ7udS"
   },
   "outputs": [],
   "source": [
    "X = torch.from_numpy(X).type(torch.float)\n",
    "y = torch.from_numpy(y).type(torch.float)"
   ]
  },
  {
   "cell_type": "code",
   "execution_count": 112,
   "id": "rorfwyF273x9",
   "metadata": {
    "colab": {
     "base_uri": "https://localhost:8080/"
    },
    "id": "rorfwyF273x9",
    "outputId": "c508a0e2-aeff-41dc-985e-69a5cd5d2fcc"
   },
   "outputs": [
    {
     "name": "stdout",
     "output_type": "stream",
     "text": [
      "X_train shape: torch.Size([3706, 9])\n",
      "X_test shape: torch.Size([927, 9])\n",
      "y_train shape: 3706\n",
      "y_test shape: 927\n"
     ]
    }
   ],
   "source": [
    "from sklearn.model_selection import train_test_split\n",
    "\n",
    "X_train, X_test, y_train, y_test = train_test_split(X, y, test_size=0.2, random_state=42)\n",
    "\n",
    "\n",
    "print(\"X_train shape:\", X_train.shape)\n",
    "print(\"X_test shape:\", X_test.shape)\n",
    "print(\"y_train shape:\", len(y_train))\n",
    "print(\"y_test shape:\", len(y_test))"
   ]
  },
  {
   "cell_type": "code",
   "execution_count": 113,
   "id": "C5VODjLu9ZeM",
   "metadata": {
    "colab": {
     "base_uri": "https://localhost:8080/"
    },
    "id": "C5VODjLu9ZeM",
    "outputId": "13c24604-1e19-4ca4-923b-99a75746270a"
   },
   "outputs": [
    {
     "data": {
      "text/plain": [
       "torch.Size([3706, 9])"
      ]
     },
     "execution_count": 113,
     "metadata": {},
     "output_type": "execute_result"
    }
   ],
   "source": [
    "X_train.shape"
   ]
  },
  {
   "cell_type": "code",
   "execution_count": 114,
   "id": "Sh7mdEqG763B",
   "metadata": {
    "colab": {
     "base_uri": "https://localhost:8080/"
    },
    "id": "Sh7mdEqG763B",
    "outputId": "59f8356b-e703-47d2-bff6-b81c072382ad"
   },
   "outputs": [
    {
     "data": {
      "text/plain": [
       "model(\n",
       "  (layer_1): Linear(in_features=9, out_features=64, bias=True)\n",
       "  (layer_2): Linear(in_features=64, out_features=32, bias=True)\n",
       "  (layer_3): Linear(in_features=32, out_features=1, bias=True)\n",
       "  (relu): ReLU()\n",
       ")"
      ]
     },
     "execution_count": 114,
     "metadata": {},
     "output_type": "execute_result"
    }
   ],
   "source": [
    "\n",
    "class model(nn.Module):\n",
    "  def __init__(self):\n",
    "    super().__init__()\n",
    "    self.layer_1 = nn.Linear(in_features=9, out_features=64)\n",
    "    self.layer_2 = nn.Linear(in_features=64, out_features=32)\n",
    "    self.layer_3 = nn.Linear(in_features=32, out_features=1)\n",
    "    self.relu = nn.ReLU()\n",
    "  def forward(self, x):\n",
    "\n",
    "    return self.layer_3(self.relu(self.layer_2(self.relu(self.layer_1(x)))))\n",
    "\n",
    "model_0 = model().to(device)\n",
    "model_0"
   ]
  },
  {
   "cell_type": "code",
   "execution_count": 115,
   "id": "KE8Odelp8I7C",
   "metadata": {
    "id": "KE8Odelp8I7C"
   },
   "outputs": [],
   "source": [
    "loss_fn = nn.BCEWithLogitsLoss()\n",
    "optimizer = torch.optim.SGD(model_0.parameters(),\n",
    "                            lr=0.1)\n"
   ]
  },
  {
   "cell_type": "code",
   "execution_count": 116,
   "id": "1xhKKoQO8sNl",
   "metadata": {
    "colab": {
     "base_uri": "https://localhost:8080/"
    },
    "id": "1xhKKoQO8sNl",
    "outputId": "b616f0b2-ee8c-48ac-9846-c9f46e8e9995"
   },
   "outputs": [
    {
     "data": {
      "text/plain": [
       "(3706, 3706)"
      ]
     },
     "execution_count": 116,
     "metadata": {},
     "output_type": "execute_result"
    }
   ],
   "source": [
    "len(X_train), len(y_train)"
   ]
  },
  {
   "cell_type": "code",
   "execution_count": 117,
   "id": "Q6tGrx1C826X",
   "metadata": {
    "id": "Q6tGrx1C826X"
   },
   "outputs": [],
   "source": [
    "def accuracy_fn(y_pred, y_true):\n",
    "  correct = torch.eq(y_pred,y_true ).sum().item()\n",
    "  acc = correct / len(y_pred) * 100\n",
    "\n",
    "  return acc"
   ]
  },
  {
   "cell_type": "code",
   "execution_count": 118,
   "id": "v53wa2yj8uRn",
   "metadata": {
    "colab": {
     "base_uri": "https://localhost:8080/"
    },
    "id": "v53wa2yj8uRn",
    "outputId": "551dc926-f475-4a94-d970-1c283a0aca39"
   },
   "outputs": [
    {
     "name": "stdout",
     "output_type": "stream",
     "text": [
      "Epoch: 0 | Loss: 0.7623, Acc: 34.13% | Test Loss: 0.7448, Test Acc: 35.2751\n",
      "Epoch: 100 | Loss: 0.5706, Acc: 71.67% | Test Loss: 0.5748, Test Acc: 70.4423\n",
      "Epoch: 200 | Loss: 0.5277, Acc: 74.58% | Test Loss: 0.5314, Test Acc: 75.1888\n",
      "Epoch: 300 | Loss: 0.4976, Acc: 77.98% | Test Loss: 0.5021, Test Acc: 76.3754\n",
      "Epoch: 400 | Loss: 0.4741, Acc: 79.30% | Test Loss: 0.4795, Test Acc: 77.8857\n",
      "Epoch: 500 | Loss: 0.4551, Acc: 80.46% | Test Loss: 0.4622, Test Acc: 78.3172\n",
      "Epoch: 600 | Loss: 0.4386, Acc: 82.11% | Test Loss: 0.4480, Test Acc: 80.2589\n",
      "Epoch: 700 | Loss: 0.4236, Acc: 82.68% | Test Loss: 0.4367, Test Acc: 80.7983\n",
      "Epoch: 800 | Loss: 0.4110, Acc: 83.81% | Test Loss: 0.4278, Test Acc: 80.7983\n",
      "Epoch: 900 | Loss: 0.3997, Acc: 84.19% | Test Loss: 0.4201, Test Acc: 81.4455\n",
      "Epoch: 1000 | Loss: 0.3902, Acc: 84.75% | Test Loss: 0.4131, Test Acc: 81.8770\n",
      "Epoch: 1100 | Loss: 0.3818, Acc: 84.97% | Test Loss: 0.4063, Test Acc: 82.4164\n",
      "Epoch: 1200 | Loss: 0.3743, Acc: 85.48% | Test Loss: 0.4003, Test Acc: 82.4164\n",
      "Epoch: 1300 | Loss: 0.3677, Acc: 85.75% | Test Loss: 0.3946, Test Acc: 82.7400\n",
      "Epoch: 1400 | Loss: 0.3615, Acc: 85.89% | Test Loss: 0.3897, Test Acc: 82.6321\n",
      "Epoch: 1500 | Loss: 0.3562, Acc: 86.02% | Test Loss: 0.3857, Test Acc: 83.0636\n",
      "Epoch: 1600 | Loss: 0.3517, Acc: 86.10% | Test Loss: 0.3825, Test Acc: 83.4951\n",
      "Epoch: 1700 | Loss: 0.3477, Acc: 86.35% | Test Loss: 0.3796, Test Acc: 83.1715\n",
      "Epoch: 1800 | Loss: 0.3442, Acc: 86.43% | Test Loss: 0.3774, Test Acc: 83.2794\n",
      "Epoch: 1900 | Loss: 0.3411, Acc: 86.51% | Test Loss: 0.3756, Test Acc: 83.3873\n",
      "Epoch: 2000 | Loss: 0.3382, Acc: 86.56% | Test Loss: 0.3740, Test Acc: 83.6030\n",
      "Epoch: 2100 | Loss: 0.3357, Acc: 86.64% | Test Loss: 0.3729, Test Acc: 83.9266\n",
      "Epoch: 2200 | Loss: 0.3332, Acc: 86.67% | Test Loss: 0.3724, Test Acc: 83.8188\n",
      "Epoch: 2300 | Loss: 0.3310, Acc: 86.78% | Test Loss: 0.3720, Test Acc: 83.8188\n",
      "Epoch: 2400 | Loss: 0.3288, Acc: 86.94% | Test Loss: 0.3716, Test Acc: 83.7109\n",
      "Epoch: 2500 | Loss: 0.3268, Acc: 87.08% | Test Loss: 0.3711, Test Acc: 84.0345\n",
      "Epoch: 2600 | Loss: 0.3249, Acc: 87.10% | Test Loss: 0.3706, Test Acc: 83.9266\n",
      "Epoch: 2700 | Loss: 0.3230, Acc: 87.13% | Test Loss: 0.3702, Test Acc: 84.3581\n",
      "Epoch: 2800 | Loss: 0.3212, Acc: 87.24% | Test Loss: 0.3702, Test Acc: 84.3581\n",
      "Epoch: 2900 | Loss: 0.3193, Acc: 87.26% | Test Loss: 0.3702, Test Acc: 84.3581\n"
     ]
    }
   ],
   "source": [
    "# Random seeds\n",
    "torch.manual_seed(42)\n",
    "torch.cuda.manual_seed(42)\n",
    "\n",
    "\n",
    "X_train, y_train = X_train.to(device), y_train.to(device)\n",
    "X_test, y_test = X_test.to(device), y_test.to(device)\n",
    "\n",
    "epochs = 3000\n",
    "\n",
    "for epoch in range(epochs):\n",
    "\n",
    "  model_0.train()\n",
    "\n",
    "\n",
    "  y_logits = model_0(X_train).squeeze()\n",
    "  y_pred = torch.round(torch.sigmoid(y_logits))\n",
    "\n",
    "\n",
    "  loss = loss_fn(y_logits, y_train)\n",
    "  acc = accuracy_fn(y_true=y_train,\n",
    "                    y_pred=y_pred)\n",
    "\n",
    "\n",
    "  optimizer.zero_grad()\n",
    "\n",
    "  loss.backward()\n",
    "\n",
    "\n",
    "  optimizer.step()\n",
    "\n",
    "\n",
    "  model_0.eval()\n",
    "  with torch.inference_mode():\n",
    "    test_logits = model_0(X_test).squeeze()\n",
    "    test_pred = torch.round(torch.sigmoid(test_logits))\n",
    "\n",
    "    test_loss = loss_fn(test_logits, y_test)\n",
    "    test_acc = accuracy_fn(y_true=y_test,\n",
    "                           y_pred=test_pred)\n",
    "\n",
    "  if epoch % 100 == 0:\n",
    "    print(f\"Epoch: {epoch} | Loss: {loss:.4f}, Acc: {acc:.2f}% | Test Loss: {test_loss:.4f}, Test Acc: {test_acc:.4f}\")"
   ]
  },
  {
   "cell_type": "code",
   "execution_count": null,
   "id": "f6407036-eec0-4565-92f1-0a4888989676",
   "metadata": {},
   "outputs": [],
   "source": []
  },
  {
   "cell_type": "code",
   "execution_count": 118,
   "id": "F620jKrq9CI3",
   "metadata": {
    "id": "F620jKrq9CI3"
   },
   "outputs": [],
   "source": []
  }
 ],
 "metadata": {
  "accelerator": "GPU",
  "colab": {
   "gpuType": "T4",
   "provenance": []
  },
  "kernelspec": {
   "display_name": "GG_2787",
   "language": "python",
   "name": "gg_2787"
  },
  "language_info": {
   "codemirror_mode": {
    "name": "ipython",
    "version": 3
   },
   "file_extension": ".py",
   "mimetype": "text/x-python",
   "name": "python",
   "nbconvert_exporter": "python",
   "pygments_lexer": "ipython3",
   "version": "3.9.18"
  }
 },
 "nbformat": 4,
 "nbformat_minor": 5
}
