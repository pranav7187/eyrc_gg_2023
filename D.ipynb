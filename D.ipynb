{
 "cells": [
  {
   "cell_type": "code",
   "execution_count": 8,
   "id": "45114444-c890-49d5-8904-35063bdd5a57",
   "metadata": {},
   "outputs": [],
   "source": [
    "import csv\n",
    "import os"
   ]
  },
  {
   "cell_type": "code",
   "execution_count": 7,
   "id": "b369c0a3-ea9f-4d10-897c-b88239bd3a9a",
   "metadata": {},
   "outputs": [
    {
     "ename": "SyntaxError",
     "evalue": "invalid syntax (1654987730.py, line 2)",
     "output_type": "error",
     "traceback": [
      "\u001b[1;36m  Cell \u001b[1;32mIn[7], line 2\u001b[1;36m\u001b[0m\n\u001b[1;33m    open('lat_lon.csv', 'r') as csv_file\u001b[0m\n\u001b[1;37m                             ^\u001b[0m\n\u001b[1;31mSyntaxError\u001b[0m\u001b[1;31m:\u001b[0m invalid syntax\n"
     ]
    }
   ],
   "source": [
    "latcsv = os.path.abspath(\"Notebook.ipyb\")\n",
    "lat_lon = {}\n",
    "open('lat_lon.csv', 'r') as csv_file\n",
    "csv_reader = csv.reader(csv_file)\n",
    "        \n",
    "for line in csv_reader:\n",
    "    c_list = [line[1], line[2]]\n",
    "    lat_lon.update({line[0] : c_list})\n"
   ]
  },
  {
   "cell_type": "code",
   "execution_count": null,
   "id": "ef0be47d-fc21-4b52-970d-beba032d1923",
   "metadata": {},
   "outputs": [],
   "source": []
  }
 ],
 "metadata": {
  "kernelspec": {
   "display_name": "GG_2787",
   "language": "python",
   "name": "gg_2787"
  },
  "language_info": {
   "codemirror_mode": {
    "name": "ipython",
    "version": 3
   },
   "file_extension": ".py",
   "mimetype": "text/x-python",
   "name": "python",
   "nbconvert_exporter": "python",
   "pygments_lexer": "ipython3",
   "version": "3.9.18"
  }
 },
 "nbformat": 4,
 "nbformat_minor": 5
}
