{
 "cells": [
  {
   "cell_type": "code",
   "execution_count": 5,
   "id": "279ab0eb-0b1b-4e17-855b-acf030706959",
   "metadata": {},
   "outputs": [],
   "source": [
    "import torch\n",
    "import torch.nn as nn\n",
    "import numpy as np"
   ]
  },
  {
   "cell_type": "code",
   "execution_count": 6,
   "id": "b655d454-b9d7-4a53-8c7d-655ce3b47742",
   "metadata": {},
   "outputs": [],
   "source": [
    "class MyNeuralNetwork(nn.Module):\n",
    "    def __init__(self):\n",
    "        super().__init__()\n",
    "        self.Matrix1 = nn.Linear(2,8,bias=False)\n",
    "        self.Matrix2 = nn.Linear(8,1,bias=False)\n",
    "    def forward(self,x):\n",
    "        x = self.Matrix1(x)\n",
    "        x = self.Matrix2(x)\n",
    "        return x.squeeze()\n",
    "        \n",
    "\n"
   ]
  },
  {
   "cell_type": "code",
   "execution_count": 11,
   "id": "83fa7065-0cd9-43bc-8572-bd56bcbc67dc",
   "metadata": {},
   "outputs": [],
   "source": [
    "f = MyNeuralNetwork()\n"
   ]
  },
  {
   "cell_type": "code",
   "execution_count": 16,
   "id": "5cd6de52-b379-485f-8141-945421b25ff6",
   "metadata": {},
   "outputs": [
    {
     "data": {
      "text/plain": [
       "tensor([[-1.6789,  0.6099],\n",
       "        [ 0.8404, -0.5720],\n",
       "        [ 0.4495,  0.3356],\n",
       "        [ 0.2749,  1.0285]])"
      ]
     },
     "execution_count": 16,
     "metadata": {},
     "output_type": "execute_result"
    }
   ],
   "source": [
    "x = torch.randn(4,2)\n",
    "x"
   ]
  },
  {
   "cell_type": "code",
   "execution_count": 17,
   "id": "7b48f392-f5c0-410e-a205-58a4fe2a4912",
   "metadata": {},
   "outputs": [],
   "source": [
    "y_untrained = f(x)"
   ]
  },
  {
   "cell_type": "code",
   "execution_count": 21,
   "id": "ce1231a0-aa12-4b64-b583-ca7e2032e2f3",
   "metadata": {},
   "outputs": [
    {
     "data": {
      "text/plain": [
       "tensor([ 0.0963, -0.0175, -0.0833, -0.1458], grad_fn=<SqueezeBackward0>)"
      ]
     },
     "execution_count": 21,
     "metadata": {},
     "output_type": "execute_result"
    }
   ],
   "source": []
  },
  {
   "cell_type": "code",
   "execution_count": null,
   "id": "a1160ab3-30b0-4404-8d2f-a52384a0826a",
   "metadata": {},
   "outputs": [],
   "source": []
  }
 ],
 "metadata": {
  "kernelspec": {
   "display_name": "GG_2787",
   "language": "python",
   "name": "gg_2787"
  },
  "language_info": {
   "codemirror_mode": {
    "name": "ipython",
    "version": 3
   },
   "file_extension": ".py",
   "mimetype": "text/x-python",
   "name": "python",
   "nbconvert_exporter": "python",
   "pygments_lexer": "ipython3",
   "version": "3.9.18"
  }
 },
 "nbformat": 4,
 "nbformat_minor": 5
}
