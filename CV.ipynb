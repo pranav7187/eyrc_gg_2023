{
 "cells": [
  {
   "cell_type": "code",
   "execution_count": 1,
   "id": "ed1eb9fa-4f6c-4dc1-bc2d-e67d2d9760fb",
   "metadata": {},
   "outputs": [],
   "source": [
    "import cv2 as cv\n",
    "import numpy as np"
   ]
  },
  {
   "cell_type": "code",
   "execution_count": 2,
   "id": "22dcd15a-9bde-4f13-985f-ee49940d0bb5",
   "metadata": {},
   "outputs": [],
   "source": [
    "import os\n",
    "os.chdir('C:\\eyantra\\Task_2A_files\\public_test_cases')\n",
    "image = cv.imread('aruco_0.png')\n",
    "image_cropped = image[0:175,10:145]\n",
    "image = cv.cvtColor(image, cv.COLOR_BGR2GRAY)\n",
    "image2 = cv.imread('aruco_1.png')\n",
    "image2 = cv.cvtColor(image2, cv.COLOR_BGR2GRAY)"
   ]
  },
  {
   "cell_type": "code",
   "execution_count": null,
   "id": "30dee49d-8197-4c15-8606-f28618aabd8a",
   "metadata": {},
   "outputs": [],
   "source": [
    "cv.imshow(\"image\",image)\n",
    "cv.waitKey(0)"
   ]
  },
  {
   "cell_type": "code",
   "execution_count": 3,
   "id": "e354a4f8-432b-4b05-951f-aa8ca1932790",
   "metadata": {},
   "outputs": [],
   "source": [
    "# define names of each possible ArUco tag OpenCV supports\n",
    "ARUCO_DICT = {\n",
    "\t\"DICT_4X4_50\": cv.aruco.DICT_4X4_50,\n",
    "\t\"DICT_4X4_100\": cv.aruco.DICT_4X4_100,\n",
    "\t\"DICT_4X4_250\": cv.aruco.DICT_4X4_250,\n",
    "\t\"DICT_4X4_1000\": cv.aruco.DICT_4X4_1000,\n",
    "\t\"DICT_5X5_50\": cv.aruco.DICT_5X5_50,\n",
    "\t\"DICT_5X5_100\": cv.aruco.DICT_5X5_100,\n",
    "\t\"DICT_5X5_250\": cv.aruco.DICT_5X5_250,\n",
    "\t\"DICT_5X5_1000\": cv.aruco.DICT_5X5_1000,\n",
    "\t\"DICT_6X6_50\": cv.aruco.DICT_6X6_50,\n",
    "\t\"DICT_6X6_100\": cv.aruco.DICT_6X6_100,\n",
    "\t\"DICT_6X6_250\": cv.aruco.DICT_6X6_250,\n",
    "\t\"DICT_6X6_1000\": cv.aruco.DICT_6X6_1000,\n",
    "\t\"DICT_7X7_50\": cv.aruco.DICT_7X7_50,\n",
    "\t\"DICT_7X7_100\": cv.aruco.DICT_7X7_100,\n",
    "\t\"DICT_7X7_250\": cv.aruco.DICT_7X7_250,\n",
    "\t\"DICT_7X7_1000\": cv.aruco.DICT_7X7_1000,\n",
    "}"
   ]
  },
  {
   "cell_type": "code",
   "execution_count": 38,
   "id": "2a10a8a0-eaaf-4441-bd20-fb24dad8cee4",
   "metadata": {},
   "outputs": [],
   "source": [
    "dict_store_corners = {}\n",
    "dict_center = {}\n",
    "arucoDict = cv.aruco.getPredefinedDictionary(cv.aruco.DICT_4X4_1000)\n",
    "(corners, ids, rejected) = cv.aruco.detectMarkers(image, arucoDict)\n",
    "\n",
    "for i in range(len(ids)):\n",
    "    \n",
    "    a = corners[i]\n",
    "    dict_store_corners.update({int(ids[i]):a[0]})\n",
    "    center_x = (corners[i][0][0][0] + corners[i][0][1][0] + corners[i][0][2][0] + corners[i][0][3][0]) / 4\n",
    "    center_y = (corners[i][0][0][1] + corners[i][0][1][1] + corners[i][0][2][1] + corners[i][0][3][1]) / 4\n",
    "    y_top = (corners[i][0][2][1] + corners[i][0][1][1])/2\n",
    "    x_top = (corners[i][0][0][0] + corners[i][0][1][0])/2\n",
    "    if x_top == center_x:\n",
    "        angle = 0\n",
    "    else:\n",
    "        slope = (y_top - center_y)/(x_top - center_x)\n",
    "        angle = np.arctan(slope)\n",
    "        angle = (angle * 180)/3.14\n",
    "        angle = 90 - abs(angle)\n",
    "        angle = int(angle)\n",
    "        slope2 = (corners[i][0][0][1]- corners[i][0][1][1])/(corners[i][0][0][0]-corners[i][0][1][0])\n",
    "        if slope2 < 0 :\n",
    "            angle = -(angle)\n",
    "        \n",
    "\n",
    "    data_list = [[center_x, center_y],angle]\n",
    "    dict_center.update({int(ids[i]):data_list})\n",
    "    \n",
    "        \n",
    "        \n",
    "    \n",
    "    \n",
    "    \n",
    "    \n"
   ]
  },
  {
   "cell_type": "code",
   "execution_count": 39,
   "id": "7dae947e-f63f-4749-a250-83a45e66ad86",
   "metadata": {},
   "outputs": [
    {
     "data": {
      "text/plain": [
       "{80: [[76.5, 96.5], 0], 90: [[227.5, 214.0], -43], 100: [[118.5, 372.5], 44]}"
      ]
     },
     "execution_count": 39,
     "metadata": {},
     "output_type": "execute_result"
    }
   ],
   "source": [
    "dict_center\n",
    "dict_center = dict(reversed(list(dict_center.items())))\n",
    "dict_center"
   ]
  },
  {
   "cell_type": "code",
   "execution_count": 18,
   "id": "f3c25bd7-e616-45a1-aa68-d02129b39e3f",
   "metadata": {},
   "outputs": [],
   "source": [
    "dict_store_corners\n",
    "dict_store_corners = dict(reversed(list(dict_store_corners.items())))"
   ]
  },
  {
   "cell_type": "code",
   "execution_count": 19,
   "id": "fc8ccfae-5f44-4bad-a4ad-c011e0e84916",
   "metadata": {},
   "outputs": [
    {
     "data": {
      "text/plain": [
       "{80: array([[ 16.,  38.],\n",
       "        [137.,  38.],\n",
       "        [137., 155.],\n",
       "        [ 16., 155.]], dtype=float32),\n",
       " 90: array([[135., 196.],\n",
       "        [250., 123.],\n",
       "        [320., 232.],\n",
       "        [205., 305.]], dtype=float32),\n",
       " 100: array([[100., 289.],\n",
       "        [202., 354.],\n",
       "        [137., 456.],\n",
       "        [ 35., 391.]], dtype=float32)}"
      ]
     },
     "execution_count": 19,
     "metadata": {},
     "output_type": "execute_result"
    }
   ],
   "source": [
    "dict_store_corners"
   ]
  },
  {
   "cell_type": "code",
   "execution_count": 23,
   "id": "a0eb2ce7-c1a1-404b-bcdd-a5749dcf8e01",
   "metadata": {},
   "outputs": [
    {
     "data": {
      "text/plain": [
       "90"
      ]
     },
     "execution_count": 23,
     "metadata": {},
     "output_type": "execute_result"
    }
   ],
   "source": [
    "ids[1][0]"
   ]
  },
  {
   "cell_type": "code",
   "execution_count": 44,
   "id": "f9708d03-8304-4f42-a9e4-bdee7777f21c",
   "metadata": {},
   "outputs": [
    {
     "ename": "error",
     "evalue": "OpenCV(4.8.0) :-1: error: (-5:Bad argument) in function 'getBoardObjectAndImagePoints'\n> Overload resolution failed:\n>  - Expected cv::aruco::Board for argument 'board'\n>  - Expected cv::aruco::Board for argument 'board'\n",
     "output_type": "error",
     "traceback": [
      "\u001b[1;31m---------------------------------------------------------------------------\u001b[0m",
      "\u001b[1;31merror\u001b[0m                                     Traceback (most recent call last)",
      "Cell \u001b[1;32mIn[44], line 1\u001b[0m\n\u001b[1;32m----> 1\u001b[0m objPoints, imgPoints \u001b[38;5;241m=\u001b[39m \u001b[43mcv\u001b[49m\u001b[38;5;241;43m.\u001b[39;49m\u001b[43maruco\u001b[49m\u001b[38;5;241;43m.\u001b[39;49m\u001b[43mgetBoardObjectAndImagePoints\u001b[49m\u001b[43m(\u001b[49m\u001b[43mdetectedCorners\u001b[49m\u001b[43m \u001b[49m\u001b[38;5;241;43m=\u001b[39;49m\u001b[43m \u001b[49m\u001b[43mcorners\u001b[49m\u001b[43m,\u001b[49m\u001b[43m \u001b[49m\u001b[43mdetectedIds\u001b[49m\u001b[43m \u001b[49m\u001b[38;5;241;43m=\u001b[39;49m\u001b[43m \u001b[49m\u001b[43mids\u001b[49m\u001b[43m,\u001b[49m\u001b[43m \u001b[49m\u001b[43mboard\u001b[49m\u001b[43m \u001b[49m\u001b[38;5;241;43m=\u001b[39;49m\u001b[43m \u001b[49m\u001b[43mimage\u001b[49m\u001b[43m)\u001b[49m\n",
      "\u001b[1;31merror\u001b[0m: OpenCV(4.8.0) :-1: error: (-5:Bad argument) in function 'getBoardObjectAndImagePoints'\n> Overload resolution failed:\n>  - Expected cv::aruco::Board for argument 'board'\n>  - Expected cv::aruco::Board for argument 'board'\n"
     ]
    }
   ],
   "source": [
    "objPoints, imgPoints = cv2.aruco.getBoardObjectAndImagePoints(detectedCorners = corners, detectedIds = ids, board = image)"
   ]
  },
  {
   "cell_type": "code",
   "execution_count": null,
   "id": "b392dbf4-b93a-458e-99fc-d7de1465bc83",
   "metadata": {},
   "outputs": [],
   "source": [
    "cv.aruco."
   ]
  }
 ],
 "metadata": {
  "kernelspec": {
   "display_name": "GG_2787",
   "language": "python",
   "name": "gg_2787"
  },
  "language_info": {
   "codemirror_mode": {
    "name": "ipython",
    "version": 3
   },
   "file_extension": ".py",
   "mimetype": "text/x-python",
   "name": "python",
   "nbconvert_exporter": "python",
   "pygments_lexer": "ipython3",
   "version": "3.9.18"
  }
 },
 "nbformat": 4,
 "nbformat_minor": 5
}
