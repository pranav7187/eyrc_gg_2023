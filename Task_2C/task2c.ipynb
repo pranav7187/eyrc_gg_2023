{
 "cells": [
  {
   "cell_type": "code",
   "execution_count": 11,
   "id": "49b9391c-2985-4992-acca-e741b480ce16",
   "metadata": {},
   "outputs": [],
   "source": [
    "import cv2"
   ]
  },
  {
   "cell_type": "code",
   "execution_count": 14,
   "id": "3a67b9a4-612e-4f5d-a7b6-5d4210a21b86",
   "metadata": {},
   "outputs": [],
   "source": [
    "img = cv2.imread('sample.png')"
   ]
  },
  {
   "cell_type": "code",
   "execution_count": 15,
   "id": "7481d615-179b-4281-89d3-d62c85540d76",
   "metadata": {},
   "outputs": [],
   "source": [
    "img1 = img[117:182, 153:217]\n",
    "img2 = img[331:394, 142:203]\n",
    "img3 = img[595:656, 152:212]\n",
    "img4 = img[333:394, 463:522]\n",
    "img5 = img[464:525, 463:522]"
   ]
  },
  {
   "cell_type": "code",
   "execution_count": null,
   "id": "ddc7dbe2-a2a6-4d8f-998a-3f85f563b110",
   "metadata": {},
   "outputs": [],
   "source": [
    "cv2.imshow('image', img)\n",
    "cv2.imshow('image1', img1)\n",
    "cv2.imshow('image2', img2)\n",
    "cv2.imshow('image3', img3)\n",
    "cv2.imshow('image4', img4)\n",
    "cv2.imshow('image5', img5)\n",
    "cv2.waitKey(0)"
   ]
  },
  {
   "cell_type": "code",
   "execution_count": null,
   "id": "62330c1f-ee3f-4a92-a304-9e6ca026744e",
   "metadata": {},
   "outputs": [],
   "source": [
    "cv2.imshow('image', img)\n",
    "\n",
    "cv2.waitKey(0)"
   ]
  },
  {
   "cell_type": "code",
   "execution_count": null,
   "id": "20c1c9e9-cb5b-4bb7-ab81-bd54d8b94c3b",
   "metadata": {},
   "outputs": [],
   "source": []
  }
 ],
 "metadata": {
  "kernelspec": {
   "display_name": "GG_2787",
   "language": "python",
   "name": "gg_2787"
  },
  "language_info": {
   "codemirror_mode": {
    "name": "ipython",
    "version": 3
   },
   "file_extension": ".py",
   "mimetype": "text/x-python",
   "name": "python",
   "nbconvert_exporter": "python",
   "pygments_lexer": "ipython3",
   "version": "3.9.18"
  }
 },
 "nbformat": 4,
 "nbformat_minor": 5
}
